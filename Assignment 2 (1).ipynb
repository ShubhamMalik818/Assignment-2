{
 "cells": [
  {
   "cell_type": "code",
   "execution_count": null,
   "id": "5448fecc-7d29-41c6-b42f-6cfdde375b08",
   "metadata": {},
   "outputs": [],
   "source": [
    "QUES1: Write a program to accept percentage from user and display the grade according to the following criteria:"
   ]
  },
  {
   "cell_type": "code",
   "execution_count": 8,
   "id": "37e88730-719b-4f45-8d16-7d03f6bdebf6",
   "metadata": {},
   "outputs": [
    {
     "name": "stdin",
     "output_type": "stream",
     "text": [
      "Enter Your Marks 98\n"
     ]
    },
    {
     "name": "stdout",
     "output_type": "stream",
     "text": [
      "Your Grade is A\n"
     ]
    }
   ],
   "source": [
    "marks=int(input('Enter Your Marks'))\n",
    "\n",
    "if marks>90:\n",
    "    print('Your Grade is A')\n",
    "elif  marks>80 and marks<=90:\n",
    "    print('Your Grade is B')\n",
    "elif  marks>=60 and marks<=80:\n",
    "    print('Your Grade is C')\n",
    "else:\n",
    "    print('Your Grade is D')"
   ]
  },
  {
   "cell_type": "code",
   "execution_count": null,
   "id": "68bbabb3-1d2b-427d-bf4f-47aa0fb69933",
   "metadata": {},
   "outputs": [],
   "source": [
    "2. Write a program to accept the cost price of a bike and display the road tax to be paid according to the following criteria:"
   ]
  },
  {
   "cell_type": "code",
   "execution_count": 9,
   "id": "6c6b858e-54ae-4bcb-a55e-b5652197cf2b",
   "metadata": {},
   "outputs": [
    {
     "name": "stdin",
     "output_type": "stream",
     "text": [
      "Enter the Cost_Price 500000\n"
     ]
    },
    {
     "name": "stdout",
     "output_type": "stream",
     "text": [
      "Your Road Tax is 15%\n"
     ]
    }
   ],
   "source": [
    "Cost_Price=int(input('Enter the Cost_Price'))\n",
    "if Cost_Price>100000:\n",
    "    print('Your Road Tax is 15%')\n",
    "elif Cost_Price>50000 and Cost_Price<=100000:\n",
    "    print('Your Road Tax is 10%')\n",
    "else:\n",
    "    print('Your Road Tax is 5%')"
   ]
  },
  {
   "cell_type": "code",
   "execution_count": null,
   "id": "88e7fc05-9924-4a0f-aa6c-09a27572e9e7",
   "metadata": {},
   "outputs": [],
   "source": [
    "3. Accept any city from the user and display monuments of that city."
   ]
  },
  {
   "cell_type": "code",
   "execution_count": 10,
   "id": "dfbcf744-2ab2-427b-a172-8e77b31ac85d",
   "metadata": {},
   "outputs": [
    {
     "name": "stdin",
     "output_type": "stream",
     "text": [
      "Enter the City Delhi\n"
     ]
    },
    {
     "name": "stdout",
     "output_type": "stream",
     "text": [
      "You should visit Red Fort\n"
     ]
    }
   ],
   "source": [
    "City=input('Enter the City')\n",
    "if City == 'Delhi':\n",
    "    print('You should visit Red Fort')\n",
    "elif City == 'Agra':\n",
    "    print('You should visit Taj Mahal')\n",
    "elif City == 'Jaipur':\n",
    "    print('You should visit Jal Mahal')\n",
    "else:\n",
    "    print('Please enter the City only from the given list')"
   ]
  },
  {
   "cell_type": "code",
   "execution_count": null,
   "id": "f2a1f219-5bd3-491e-bf2d-29c1de0428ed",
   "metadata": {},
   "outputs": [],
   "source": [
    "4. Check how many times a given number can be divided by 3 before it is less than or equal to 10."
   ]
  },
  {
   "cell_type": "code",
   "execution_count": 11,
   "id": "af1e2d5a-c59d-4147-ac4a-232b1a0f6a69",
   "metadata": {},
   "outputs": [
    {
     "name": "stdin",
     "output_type": "stream",
     "text": [
      "Enter number greater than 10 :  69\n"
     ]
    },
    {
     "name": "stdout",
     "output_type": "stream",
     "text": [
      "20\n"
     ]
    }
   ],
   "source": [
    "n=int(input('Enter number greater than 10 : '))\n",
    "count=0\n",
    "while n>=10:\n",
    "    if n%3==0:\n",
    "        count=count+1\n",
    "    n=n-1\n",
    "print(count)"
   ]
  },
  {
   "cell_type": "code",
   "execution_count": null,
   "id": "6da21908-d9de-46ef-a281-0f09a60a3726",
   "metadata": {},
   "outputs": [],
   "source": [
    "5. Why and when to use while loop in Python give a detailed description with example."
   ]
  },
  {
   "cell_type": "code",
   "execution_count": null,
   "id": "5f1a3b76-89c4-40a9-9680-865a84509c9f",
   "metadata": {},
   "outputs": [],
   "source": [
    "ANS- While Loop is used to repeat a specific block of code an unknown number of times, until a condition is met. \n",
    "     For example, if we want to ask a user for a number between 1 and 10, we do not know how many times the user may enter a larger number, \n",
    "     so we keep asking while the number is not between 1 and 10.\n",
    "     \n",
    "     for example:   program to display numbers from 1 to 10\n",
    "\n",
    "\n",
    "i = 1\n",
    "n = 10\n",
    "\n",
    "while i <= n:\n",
    "    print(i)\n",
    "    i = i + 1"
   ]
  },
  {
   "cell_type": "code",
   "execution_count": null,
   "id": "0193c5f1-568e-4045-81e9-ef5ad4466631",
   "metadata": {},
   "outputs": [],
   "source": [
    "6. Use nested while loop to print 3 different pattern."
   ]
  },
  {
   "cell_type": "code",
   "execution_count": null,
   "id": "ade530a4-7828-4795-b2e0-494b698cb0a5",
   "metadata": {},
   "outputs": [],
   "source": [
    "ANS- Here is an example of how you could use nested while loops to print three different patterns in Python:"
   ]
  },
  {
   "cell_type": "code",
   "execution_count": 6,
   "id": "6621cc9e-7238-4210-8a5c-5c9db6d1e06e",
   "metadata": {},
   "outputs": [
    {
     "name": "stdout",
     "output_type": "stream",
     "text": [
      "*\n",
      "**\n",
      "***\n",
      "****\n",
      "*****\n",
      "\n",
      "\n",
      "*****\n",
      "****\n",
      "***\n",
      "**\n",
      "*\n",
      "\n",
      "\n",
      "    *\n",
      "   **\n",
      "  ***\n",
      " ****\n",
      "*****\n"
     ]
    }
   ],
   "source": [
    "# Pattern 1\n",
    "i = 1\n",
    "while i <= 5:\n",
    "    j = 1\n",
    "    while j <= i:\n",
    "        print(\"*\", end=\"\")\n",
    "        j = j + 1\n",
    "    print(\"\")\n",
    "    i = i + 1\n",
    "\n",
    "print(\"\\n\")\n",
    "\n",
    "# Pattern 2\n",
    "i = 5\n",
    "while i >= 1:\n",
    "    j = 1\n",
    "    while j <= i:\n",
    "        print(\"*\", end=\"\")\n",
    "        j = j + 1\n",
    "    print(\"\")\n",
    "    i = i - 1\n",
    "\n",
    "print(\"\\n\")\n",
    "\n",
    "# Pattern 3\n",
    "i = 5\n",
    "while i >= 1:\n",
    "    j = 1\n",
    "    while j <= 5:\n",
    "        if j >= i:\n",
    "            print(\"*\", end=\"\")\n",
    "        else:\n",
    "            print(\" \", end=\"\")\n",
    "        j = j + 1\n",
    "    print(\"\")\n",
    "    i = i - 1\n"
   ]
  },
  {
   "cell_type": "code",
   "execution_count": null,
   "id": "578b209d-244e-4d3c-94a8-087dfb7f7719",
   "metadata": {},
   "outputs": [],
   "source": [
    "7. Reverse a while loop to display numbers from 10 to 1."
   ]
  },
  {
   "cell_type": "code",
   "execution_count": 7,
   "id": "d865b730-678c-45cf-a24c-ffd4c7df445b",
   "metadata": {},
   "outputs": [
    {
     "name": "stdout",
     "output_type": "stream",
     "text": [
      "10\n",
      "9\n",
      "8\n",
      "7\n",
      "6\n",
      "5\n",
      "4\n",
      "3\n",
      "2\n",
      "1\n"
     ]
    }
   ],
   "source": [
    "i=10\n",
    "while i>=1:\n",
    "    print(i)\n",
    "    i=i-1\n"
   ]
  },
  {
   "cell_type": "code",
   "execution_count": null,
   "id": "bbfc6065-db7b-49bf-ab8c-ed133a54f657",
   "metadata": {},
   "outputs": [],
   "source": [
    "Ques 8 is same as Ques 7"
   ]
  }
 ],
 "metadata": {
  "kernelspec": {
   "display_name": "Python 3 (ipykernel)",
   "language": "python",
   "name": "python3"
  },
  "language_info": {
   "codemirror_mode": {
    "name": "ipython",
    "version": 3
   },
   "file_extension": ".py",
   "mimetype": "text/x-python",
   "name": "python",
   "nbconvert_exporter": "python",
   "pygments_lexer": "ipython3",
   "version": "3.10.8"
  }
 },
 "nbformat": 4,
 "nbformat_minor": 5
}
